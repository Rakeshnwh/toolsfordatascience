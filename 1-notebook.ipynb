{
 "cells": [
  {
   "cell_type": "markdown",
   "id": "115857fb",
   "metadata": {},
   "source": [
    "# Data Science Tools and Ecosystem"
   ]
  },
  {
   "cell_type": "markdown",
   "id": "b11f78a1",
   "metadata": {},
   "source": [
    "# Data Science Tools and Ecosystem are summarized."
   ]
  },
  {
   "cell_type": "markdown",
   "id": "af03f2a7",
   "metadata": {},
   "source": [
    "# Some of the popular languages that Data Scientists use are: Python ,R and SQL"
   ]
  },
  {
   "cell_type": "markdown",
   "id": "c9e80be0",
   "metadata": {},
   "source": [
    "# Some of the commonly used libraries used by Data Scientists include: Pandas , Numpy and SciPy."
   ]
  },
  {
   "cell_type": "markdown",
   "id": "def552e7",
   "metadata": {},
   "source": [
    "#|Numbers | Data Science Tools |\n",
    "#|1| | Tableau |\n",
    "#|2| |Python |\n",
    "#|3| |SQ L|\n"
   ]
  },
  {
   "cell_type": "markdown",
   "id": "772389ed",
   "metadata": {},
   "source": [
    "# Below are a few examples of evaluating arithmetic expressions in Python"
   ]
  },
  {
   "cell_type": "code",
   "execution_count": 12,
   "id": "6909f484",
   "metadata": {},
   "outputs": [
    {
     "name": "stdout",
     "output_type": "stream",
     "text": [
      "52\n",
      "28\n",
      "480\n",
      "3.3333333333333335\n"
     ]
    }
   ],
   "source": [
    "x = 40\n",
    "y = 12\n",
    "  \n",
    "add = x + y\n",
    "sub = x - y\n",
    "pro = x * y\n",
    "div = x / y\n",
    "  \n",
    "print(add)\n",
    "print(sub)\n",
    "print(pro)\n",
    "print(div)"
   ]
  },
  {
   "cell_type": "code",
   "execution_count": 13,
   "id": "0f4e44ec",
   "metadata": {},
   "outputs": [
    {
     "name": "stdout",
     "output_type": "stream",
     "text": [
      "17\n"
     ]
    }
   ],
   "source": [
    "#This a simple arithmetic expression to mutiply then add integers\n",
    "x = (3*4)+5\n",
    "print(x)"
   ]
  },
  {
   "cell_type": "code",
   "execution_count": 15,
   "id": "0855d51a",
   "metadata": {},
   "outputs": [
    {
     "data": {
      "text/plain": [
       "3"
      ]
     },
     "execution_count": 15,
     "metadata": {},
     "output_type": "execute_result"
    }
   ],
   "source": [
    "#This will convert 200 minutes to hours by diving by 60\n",
    "hours = 200 // 60\n",
    "hours"
   ]
  },
  {
   "cell_type": "markdown",
   "id": "b2ef3599",
   "metadata": {},
   "source": [
    "# Objectives: Python,R and SQL"
   ]
  },
  {
   "cell_type": "markdown",
   "id": "46c9ed3f",
   "metadata": {},
   "source": [
    "# Author: RAKESH JOSHI"
   ]
  },
  {
   "cell_type": "code",
   "execution_count": null,
   "id": "d125d747",
   "metadata": {},
   "outputs": [],
   "source": []
  }
 ],
 "metadata": {
  "kernelspec": {
   "display_name": "Python 3 (ipykernel)",
   "language": "python",
   "name": "python3"
  },
  "language_info": {
   "codemirror_mode": {
    "name": "ipython",
    "version": 3
   },
   "file_extension": ".py",
   "mimetype": "text/x-python",
   "name": "python",
   "nbconvert_exporter": "python",
   "pygments_lexer": "ipython3",
   "version": "3.9.12"
  }
 },
 "nbformat": 4,
 "nbformat_minor": 5
}
